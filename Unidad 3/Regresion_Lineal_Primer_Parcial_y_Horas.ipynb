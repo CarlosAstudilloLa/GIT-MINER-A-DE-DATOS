{
  "nbformat": 4,
  "nbformat_minor": 0,
  "metadata": {
    "colab": {
      "provenance": []
    },
    "kernelspec": {
      "name": "python3",
      "display_name": "Python 3"
    },
    "language_info": {
      "name": "python"
    }
  },
  "cells": [
    {
      "cell_type": "markdown",
      "source": [
        "**REGRESIÓN LINEAL**\n",
        "\n",
        "La regresión lineal es una técnica estadística que se utiliza para modelar la relación entre una variable dependiente y una o más variables independientes. El objetivo de la regresión lineal es encontrar una línea recta que mejor represente la relación entre estas variables."
      ],
      "metadata": {
        "id": "8o04SOgFlNcw"
      }
    },
    {
      "cell_type": "code",
      "execution_count": 1,
      "metadata": {
        "colab": {
          "base_uri": "https://localhost:8080/"
        },
        "id": "6ienY0LflI5S",
        "outputId": "150fee23-0c8e-4a47-ae2d-9127e4746d2f"
      },
      "outputs": [
        {
          "output_type": "stream",
          "name": "stdout",
          "text": [
            "    Primer Parcial  Horas\n",
            "0             8.55      3\n",
            "1             7.95      2\n",
            "2             8.12      3\n",
            "3             8.41      3\n",
            "4             8.66      3\n",
            "5             5.78      0\n",
            "6             6.81      2\n",
            "7             7.38      2\n",
            "8             6.57      3\n",
            "9             8.73      4\n",
            "10            8.67      4\n",
            "11            8.51      4\n",
            "12            7.54      4\n"
          ]
        }
      ],
      "source": [
        "import pandas as pd\n",
        "\n",
        "# cargar los datos\n",
        "datos = {\n",
        "    'Primer Parcial': [8.55, 7.95, 8.12, 8.41, 8.66, 5.78, 6.81, 7.38, 6.57, 8.73, 8.67, 8.51, 7.54],\n",
        "    'Horas': [3, 2, 3, 3, 3, 0, 2, 2, 3, 4, 4, 4, 4]\n",
        "}\n",
        "\n",
        "data = pd.DataFrame(datos)\n",
        "\n",
        "data.to_csv(\"datos_Primer_Parcial_Carlos Astudillo.csv\", index=False)\n",
        "# visualizar los primeros registros\n",
        "print(data)"
      ]
    },
    {
      "cell_type": "code",
      "source": [
        "# separar las variables independientes y dependiente\n",
        "X = data.iloc[:, :-1].values\n",
        "y = data.iloc[:, 1].values"
      ],
      "metadata": {
        "id": "0RCy1qRlmOHV"
      },
      "execution_count": 4,
      "outputs": []
    },
    {
      "cell_type": "code",
      "source": [
        "X"
      ],
      "metadata": {
        "colab": {
          "base_uri": "https://localhost:8080/"
        },
        "id": "1d2Vcj5rmRuh",
        "outputId": "5cbadf6e-7c74-4769-a412-8eac33b4e4c0"
      },
      "execution_count": 5,
      "outputs": [
        {
          "output_type": "execute_result",
          "data": {
            "text/plain": [
              "array([[8.55],\n",
              "       [7.95],\n",
              "       [8.12],\n",
              "       [8.41],\n",
              "       [8.66],\n",
              "       [5.78],\n",
              "       [6.81],\n",
              "       [7.38],\n",
              "       [6.57],\n",
              "       [8.73],\n",
              "       [8.67],\n",
              "       [8.51],\n",
              "       [7.54]])"
            ]
          },
          "metadata": {},
          "execution_count": 5
        }
      ]
    },
    {
      "cell_type": "code",
      "source": [
        "y"
      ],
      "metadata": {
        "colab": {
          "base_uri": "https://localhost:8080/"
        },
        "id": "v5kio9yhmVsd",
        "outputId": "fd9bd6da-da41-456c-b3ff-38ccea6e1104"
      },
      "execution_count": 6,
      "outputs": [
        {
          "output_type": "execute_result",
          "data": {
            "text/plain": [
              "array([3, 2, 3, 3, 3, 0, 2, 2, 3, 4, 4, 4, 4])"
            ]
          },
          "metadata": {},
          "execution_count": 6
        }
      ]
    },
    {
      "cell_type": "code",
      "source": [
        "import pandas as pd\n",
        "import numpy as np\n",
        "from sklearn.linear_model import LinearRegression\n",
        "# ajustar el modelo de regresión lineal\n",
        "regressor = LinearRegression()\n",
        "regressor.fit(X, y)"
      ],
      "metadata": {
        "colab": {
          "base_uri": "https://localhost:8080/",
          "height": 75
        },
        "id": "cyabYlhBmWx_",
        "outputId": "555ee2d6-0c40-43f7-c389-dc315d24e5fd"
      },
      "execution_count": 7,
      "outputs": [
        {
          "output_type": "execute_result",
          "data": {
            "text/plain": [
              "LinearRegression()"
            ],
            "text/html": [
              "<style>#sk-container-id-1 {color: black;background-color: white;}#sk-container-id-1 pre{padding: 0;}#sk-container-id-1 div.sk-toggleable {background-color: white;}#sk-container-id-1 label.sk-toggleable__label {cursor: pointer;display: block;width: 100%;margin-bottom: 0;padding: 0.3em;box-sizing: border-box;text-align: center;}#sk-container-id-1 label.sk-toggleable__label-arrow:before {content: \"▸\";float: left;margin-right: 0.25em;color: #696969;}#sk-container-id-1 label.sk-toggleable__label-arrow:hover:before {color: black;}#sk-container-id-1 div.sk-estimator:hover label.sk-toggleable__label-arrow:before {color: black;}#sk-container-id-1 div.sk-toggleable__content {max-height: 0;max-width: 0;overflow: hidden;text-align: left;background-color: #f0f8ff;}#sk-container-id-1 div.sk-toggleable__content pre {margin: 0.2em;color: black;border-radius: 0.25em;background-color: #f0f8ff;}#sk-container-id-1 input.sk-toggleable__control:checked~div.sk-toggleable__content {max-height: 200px;max-width: 100%;overflow: auto;}#sk-container-id-1 input.sk-toggleable__control:checked~label.sk-toggleable__label-arrow:before {content: \"▾\";}#sk-container-id-1 div.sk-estimator input.sk-toggleable__control:checked~label.sk-toggleable__label {background-color: #d4ebff;}#sk-container-id-1 div.sk-label input.sk-toggleable__control:checked~label.sk-toggleable__label {background-color: #d4ebff;}#sk-container-id-1 input.sk-hidden--visually {border: 0;clip: rect(1px 1px 1px 1px);clip: rect(1px, 1px, 1px, 1px);height: 1px;margin: -1px;overflow: hidden;padding: 0;position: absolute;width: 1px;}#sk-container-id-1 div.sk-estimator {font-family: monospace;background-color: #f0f8ff;border: 1px dotted black;border-radius: 0.25em;box-sizing: border-box;margin-bottom: 0.5em;}#sk-container-id-1 div.sk-estimator:hover {background-color: #d4ebff;}#sk-container-id-1 div.sk-parallel-item::after {content: \"\";width: 100%;border-bottom: 1px solid gray;flex-grow: 1;}#sk-container-id-1 div.sk-label:hover label.sk-toggleable__label {background-color: #d4ebff;}#sk-container-id-1 div.sk-serial::before {content: \"\";position: absolute;border-left: 1px solid gray;box-sizing: border-box;top: 0;bottom: 0;left: 50%;z-index: 0;}#sk-container-id-1 div.sk-serial {display: flex;flex-direction: column;align-items: center;background-color: white;padding-right: 0.2em;padding-left: 0.2em;position: relative;}#sk-container-id-1 div.sk-item {position: relative;z-index: 1;}#sk-container-id-1 div.sk-parallel {display: flex;align-items: stretch;justify-content: center;background-color: white;position: relative;}#sk-container-id-1 div.sk-item::before, #sk-container-id-1 div.sk-parallel-item::before {content: \"\";position: absolute;border-left: 1px solid gray;box-sizing: border-box;top: 0;bottom: 0;left: 50%;z-index: -1;}#sk-container-id-1 div.sk-parallel-item {display: flex;flex-direction: column;z-index: 1;position: relative;background-color: white;}#sk-container-id-1 div.sk-parallel-item:first-child::after {align-self: flex-end;width: 50%;}#sk-container-id-1 div.sk-parallel-item:last-child::after {align-self: flex-start;width: 50%;}#sk-container-id-1 div.sk-parallel-item:only-child::after {width: 0;}#sk-container-id-1 div.sk-dashed-wrapped {border: 1px dashed gray;margin: 0 0.4em 0.5em 0.4em;box-sizing: border-box;padding-bottom: 0.4em;background-color: white;}#sk-container-id-1 div.sk-label label {font-family: monospace;font-weight: bold;display: inline-block;line-height: 1.2em;}#sk-container-id-1 div.sk-label-container {text-align: center;}#sk-container-id-1 div.sk-container {/* jupyter's `normalize.less` sets `[hidden] { display: none; }` but bootstrap.min.css set `[hidden] { display: none !important; }` so we also need the `!important` here to be able to override the default hidden behavior on the sphinx rendered scikit-learn.org. See: https://github.com/scikit-learn/scikit-learn/issues/21755 */display: inline-block !important;position: relative;}#sk-container-id-1 div.sk-text-repr-fallback {display: none;}</style><div id=\"sk-container-id-1\" class=\"sk-top-container\"><div class=\"sk-text-repr-fallback\"><pre>LinearRegression()</pre><b>In a Jupyter environment, please rerun this cell to show the HTML representation or trust the notebook. <br />On GitHub, the HTML representation is unable to render, please try loading this page with nbviewer.org.</b></div><div class=\"sk-container\" hidden><div class=\"sk-item\"><div class=\"sk-estimator sk-toggleable\"><input class=\"sk-toggleable__control sk-hidden--visually\" id=\"sk-estimator-id-1\" type=\"checkbox\" checked><label for=\"sk-estimator-id-1\" class=\"sk-toggleable__label sk-toggleable__label-arrow\">LinearRegression</label><div class=\"sk-toggleable__content\"><pre>LinearRegression()</pre></div></div></div></div></div>"
            ]
          },
          "metadata": {},
          "execution_count": 7
        }
      ]
    },
    {
      "cell_type": "code",
      "source": [
        "import matplotlib.pyplot as plt\n",
        "\n",
        "# visualizar la línea de regresión\n",
        "plt.scatter(X, y, color='red')\n",
        "plt.plot(X, regressor.predict(X), color='blue')\n",
        "plt.title('Tiempo de trabajo vs salario')\n",
        "plt.xlabel('Tiempo de trabajo')\n",
        "plt.ylabel('salario')\n",
        "plt.show()\n",
        "\n",
        "# predecir la calificación de un estudiante que invierte 6 horas de studio\n",
        "horas_estudio = [[8]]\n",
        "print(\"Calificación predicha:\", regressor.predict(horas_estudio))"
      ],
      "metadata": {
        "colab": {
          "base_uri": "https://localhost:8080/",
          "height": 489
        },
        "id": "jVVkl0GFmar3",
        "outputId": "75e0d079-25a0-40c7-bbed-0332efce4871"
      },
      "execution_count": 8,
      "outputs": [
        {
          "output_type": "display_data",
          "data": {
            "text/plain": [
              "<Figure size 640x480 with 1 Axes>"
            ],
            "image/png": "[encoded data removed]"
          },
          "metadata": {}
        },
        {
          "output_type": "stream",
          "name": "stdout",
          "text": [
            "Calificación predicha: [3.00594385]\n"
          ]
        }
      ]
    },
    {
      "cell_type": "markdown",
      "source": [
        "**EVALUACIÓN DEL MODELO**\n",
        "\n",
        "Para evaluar la calidad de un modelo de regresión lineal, hay varias métricas que se pueden utilizar. Aquí se presentan algunas de las más comunes:"
      ],
      "metadata": {
        "id": "mmfN6qz_mk2a"
      }
    },
    {
      "cell_type": "markdown",
      "source": [
        "**Error cuadrático medio (MSE)**"
      ],
      "metadata": {
        "id": "YJRinsiymlq-"
      }
    },
    {
      "cell_type": "code",
      "source": [
        "from sklearn.metrics import mean_squared_error\n",
        "# calcular el MSE\n",
        "y_pred = regressor.predict(X)\n",
        "mse = mean_squared_error(y, y_pred)\n",
        "print(\"MSE:\", mse)"
      ],
      "metadata": {
        "colab": {
          "base_uri": "https://localhost:8080/"
        },
        "id": "K0UCjS-fmhTQ",
        "outputId": "33359bdc-e124-40dd-badd-0e756a95a3a8"
      },
      "execution_count": 9,
      "outputs": [
        {
          "output_type": "stream",
          "name": "stdout",
          "text": [
            "MSE: 0.5449998963871294\n"
          ]
        }
      ]
    },
    {
      "cell_type": "markdown",
      "source": [
        "**Coeficiente de determinación (R2)**"
      ],
      "metadata": {
        "id": "BKXS1-1hmsok"
      }
    },
    {
      "cell_type": "code",
      "source": [
        "from sklearn.metrics import r2_score\n",
        "# calcular el R2\n",
        "r2 = r2_score(y, y_pred)\n",
        "print(\"R2:\", r2)"
      ],
      "metadata": {
        "colab": {
          "base_uri": "https://localhost:8080/"
        },
        "id": "T8UVGh8gmsEo",
        "outputId": "64ecf665-9cdc-4471-dce7-dfe54000bc2c"
      },
      "execution_count": 10,
      "outputs": [
        {
          "output_type": "stream",
          "name": "stdout",
          "text": [
            "R2: 0.5485049877969368\n"
          ]
        }
      ]
    },
    {
      "cell_type": "markdown",
      "source": [
        "**Gráfico de residuos**"
      ],
      "metadata": {
        "id": "mDTZRYoJmtDS"
      }
    },
    {
      "cell_type": "code",
      "source": [
        "# crear un gráfico de residuos\n",
        "residuos = y - y_pred\n",
        "plt.scatter(X, residuos)\n",
        "plt.axhline(y=0, color='black', linestyle='--')\n",
        "plt.title('Gráfico de residuos')\n",
        "plt.xlabel('Horas trabajadas')\n",
        "plt.ylabel('Residuos')\n",
        "plt.show()"
      ],
      "metadata": {
        "colab": {
          "base_uri": "https://localhost:8080/",
          "height": 472
        },
        "id": "hZ7r9RmwmtVO",
        "outputId": "6e6e37fc-eb8d-42cb-f2a2-4ead2efde3df"
      },
      "execution_count": 11,
      "outputs": [
        {
          "output_type": "display_data",
          "data": {
            "text/plain": [
              "<Figure size 640x480 with 1 Axes>"
            ],
            "image/png": "[encoded data removed]"
          },
          "metadata": {}
        }
      ]
    }
  ]
}