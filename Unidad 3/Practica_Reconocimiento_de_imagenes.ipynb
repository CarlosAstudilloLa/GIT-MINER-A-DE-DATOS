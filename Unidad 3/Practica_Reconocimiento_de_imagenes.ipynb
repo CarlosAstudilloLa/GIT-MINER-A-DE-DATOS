{
  "nbformat": 4,
  "nbformat_minor": 0,
  "metadata": {
    "colab": {
      "provenance": []
    },
    "kernelspec": {
      "name": "python3",
      "display_name": "Python 3"
    },
    "language_info": {
      "name": "python"
    }
  },
  "cells": [
    {
      "cell_type": "code",
      "source": [
        "import tensorflow as tf\n",
        "from tensorflow.keras import layers, models\n",
        "import cv2\n",
        "import numpy as np"
      ],
      "metadata": {
        "id": "XOrxQ6egl_3q"
      },
      "execution_count": 1,
      "outputs": []
    },
    {
      "cell_type": "code",
      "source": [
        "# 1. Cargar los datos de entrenamiento (en este caso, la base de datos MNIST)\n",
        "mnist = tf.keras.datasets.mnist\n",
        "(training_images, training_labels), (test_images, test_labels) = mnist.load_data()\n",
        "\n",
        "# Normalizar y redimensionar las imágenes para que estén en el rango [0, 1] y tengan el tamaño adecuado para la CNN\n",
        "training_images = training_images.astype(np.float32) / 255.0\n",
        "test_images = test_images.astype(np.float32) / 255.0\n",
        "\n",
        "# Agregar una dimensión extra para indicar el número de canales (en este caso, solo 1 canal porque son imágenes en escala de grises)\n",
        "training_images = np.expand_dims(training_images, axis=-1)\n",
        "test_images = np.expand_dims(test_images, axis=-1)\n",
        "\n"
      ],
      "metadata": {
        "id": "FsccT0lnmC8h",
        "colab": {
          "base_uri": "https://localhost:8080/"
        },
        "outputId": "2f728d9d-2769-4a21-e5df-53133ed4cdf3"
      },
      "execution_count": 2,
      "outputs": [
        {
          "output_type": "stream",
          "name": "stdout",
          "text": [
            "Downloading data from https://storage.googleapis.com/tensorflow/tf-keras-datasets/mnist.npz\n",
            "11490434/11490434 [==============================] - 0s 0us/step\n"
          ]
        }
      ]
    },
    {
      "cell_type": "code",
      "source": [
        "# 2. Definir y entrenar el modelo CNN\n",
        "model = models.Sequential([\n",
        "    layers.Conv2D(32, (3, 3), activation='relu', input_shape=(28, 28, 1)),\n",
        "    layers.MaxPooling2D((2, 2)),\n",
        "    layers.Conv2D(64, (3, 3), activation='relu'),\n",
        "    layers.MaxPooling2D((2, 2)),\n",
        "    layers.Conv2D(128, (3, 3), activation='relu'),\n",
        "    layers.MaxPooling2D((2, 2)),\n",
        "    layers.Flatten(),\n",
        "    layers.Dense(64, activation='relu'),\n",
        "    layers.Dense(10, activation='softmax')\n",
        "])\n",
        "\n",
        "model.compile(optimizer='adam',\n",
        "              loss='sparse_categorical_crossentropy',\n",
        "              metrics=['accuracy'])\n",
        "\n",
        "model.fit(training_images, training_labels, epochs=5, batch_size=32)\n",
        "\n"
      ],
      "metadata": {
        "colab": {
          "base_uri": "https://localhost:8080/"
        },
        "id": "Nb8wdj15mFig",
        "outputId": "e9ea43d4-cfc1-4815-fc36-e6b4f2ea200a"
      },
      "execution_count": 3,
      "outputs": [
        {
          "output_type": "stream",
          "name": "stdout",
          "text": [
            "Epoch 1/5\n",
            "1875/1875 [==============================] - 59s 30ms/step - loss: 0.2115 - accuracy: 0.9342\n",
            "Epoch 2/5\n",
            "1875/1875 [==============================] - 57s 31ms/step - loss: 0.0707 - accuracy: 0.9773\n",
            "Epoch 3/5\n",
            "1875/1875 [==============================] - 57s 30ms/step - loss: 0.0513 - accuracy: 0.9839\n",
            "Epoch 4/5\n",
            "1875/1875 [==============================] - 58s 31ms/step - loss: 0.0385 - accuracy: 0.9883\n",
            "Epoch 5/5\n",
            "1875/1875 [==============================] - 58s 31ms/step - loss: 0.0306 - accuracy: 0.9902\n"
          ]
        },
        {
          "output_type": "execute_result",
          "data": {
            "text/plain": [
              "<keras.src.callbacks.History at 0x783c218acc70>"
            ]
          },
          "metadata": {},
          "execution_count": 3
        }
      ]
    },
    {
      "cell_type": "code",
      "source": [
        "from google.colab import drive\n",
        "drive.mount('/content/drive')"
      ],
      "metadata": {
        "colab": {
          "base_uri": "https://localhost:8080/"
        },
        "id": "xclDJfR7tuhk",
        "outputId": "22581d26-7e22-4f17-dd54-9fe5381ed503"
      },
      "execution_count": 6,
      "outputs": [
        {
          "output_type": "stream",
          "name": "stdout",
          "text": [
            "Mounted at /content/drive\n"
          ]
        }
      ]
    },
    {
      "cell_type": "code",
      "source": [
        "import os\n",
        "import cv2\n",
        "import numpy as np\n",
        "import matplotlib.pyplot as plt\n",
        "\n",
        "# Ruta de la carpeta que contiene las imágenes\n",
        "folder_path = '/content/drive/MyDrive/Datas Creadas 10/Numeros'  # Cambia esto por la ruta real de tu carpeta\n",
        "\n",
        "# Listas para almacenar las imágenes procesadas y sus etiquetas\n",
        "images = []\n",
        "predicted_classes = []\n",
        "\n",
        "# Iterar sobre todos los archivos en la carpeta\n",
        "for filename in os.listdir(folder_path):\n",
        "    if filename.endswith('.PNG'):  # Filtrar solo archivos PNG\n",
        "        image_path = os.path.join(folder_path, filename)\n",
        "\n",
        "        # Leer y procesar la imagen\n",
        "        image = cv2.imread(image_path, cv2.IMREAD_GRAYSCALE)\n",
        "        image_resized = cv2.resize(image, (28, 28))  # Redimensionar\n",
        "        image_normalized = image_resized.astype(np.float32) / 255.0  # Normalizar\n",
        "        images.append(image_normalized)  # Almacenar imagen procesada\n",
        "\n",
        "        # Aquí deberías incluir tu modelo de predicción\n",
        "        predicted_class = model.predict(image_normalized.reshape(1, 28, 28, 1))  # Ejemplo de predicción\n",
        "        predicted_classes.append(np.argmax(predicted_class))  # Obtener la clase predicha\n",
        "\n",
        "# Mostrar todas las imágenes y sus resultados\n",
        "num_images = len(images)\n",
        "plt.figure(figsize=(15, 5))\n",
        "for i in range(num_images):\n",
        "    plt.subplot(1, num_images, i + 1)\n",
        "    plt.imshow(images[i], cmap='gray')\n",
        "    plt.title(f\"Clasificado como: {predicted_classes[i]}\")\n",
        "    plt.axis('off')  # No mostrar los ejes\n",
        "\n",
        "plt.show()  # Mostrar todas las imágenes"
      ],
      "metadata": {
        "colab": {
          "base_uri": "https://localhost:8080/",
          "height": 289
        },
        "id": "mZeYKkyk0aFf",
        "outputId": "ce5d6f47-2a56-49c2-9773-6c19fc8d4911"
      },
      "execution_count": 10,
      "outputs": [
        {
          "output_type": "stream",
          "name": "stdout",
          "text": [
            "1/1 [==============================] - 0s 134ms/step\n",
            "1/1 [==============================] - 0s 21ms/step\n",
            "1/1 [==============================] - 0s 23ms/step\n",
            "1/1 [==============================] - 0s 20ms/step\n",
            "1/1 [==============================] - 0s 20ms/step\n",
            "1/1 [==============================] - 0s 23ms/step\n",
            "1/1 [==============================] - 0s 21ms/step\n",
            "1/1 [==============================] - 0s 20ms/step\n",
            "1/1 [==============================] - 0s 20ms/step\n"
          ]
        },
        {
          "output_type": "display_data",
          "data": {
            "text/plain": [
              "<Figure size 1500x500 with 9 Axes>"
            ],
            "image/png": "[encoded data removed]"
          },
          "metadata": {}
        }
      ]
    },
    {
      "cell_type": "code",
      "source": [
        "# 5. Obtener el resultado\n",
        "print(\"La imagen fue clasificada como el dígito:\", predicted_class)"
      ],
      "metadata": {
        "colab": {
          "base_uri": "https://localhost:8080/"
        },
        "id": "Jyrffch2mK0Q",
        "outputId": "0bb7ceeb-b772-4455-c95c-cb25ad2f4ea1"
      },
      "execution_count": 12,
      "outputs": [
        {
          "output_type": "stream",
          "name": "stdout",
          "text": [
            "La imagen fue clasificada como el dígito: [[0.4515732  0.01257187 0.21764673 0.00947608 0.04760445 0.00908076\n",
            "  0.09871205 0.00185173 0.13374786 0.01773529]]\n"
          ]
        }
      ]
    }
  ]
}